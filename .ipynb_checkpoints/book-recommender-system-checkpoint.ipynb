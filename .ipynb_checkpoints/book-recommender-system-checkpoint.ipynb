{
 "cells": [
  {
   "cell_type": "code",
   "execution_count": 1,
   "id": "6e2ba1d1",
   "metadata": {},
   "outputs": [],
   "source": [
    "import numpy as np\n",
    "import pandas as pd"
   ]
  },
  {
   "cell_type": "code",
   "execution_count": 2,
   "id": "eb61bd87",
   "metadata": {},
   "outputs": [
    {
     "ename": "FileNotFoundError",
     "evalue": "[Errno 2] No such file or directory: 'books.csv'",
     "output_type": "error",
     "traceback": [
      "\u001b[1;31m---------------------------------------------------------------------------\u001b[0m",
      "\u001b[1;31mFileNotFoundError\u001b[0m                         Traceback (most recent call last)",
      "\u001b[1;32m~\\AppData\\Local\\Temp/ipykernel_4360/3819754567.py\u001b[0m in \u001b[0;36m<module>\u001b[1;34m\u001b[0m\n\u001b[1;32m----> 1\u001b[1;33m \u001b[0mbooks\u001b[0m \u001b[1;33m=\u001b[0m \u001b[0mpd\u001b[0m\u001b[1;33m.\u001b[0m\u001b[0mread_csv\u001b[0m\u001b[1;33m(\u001b[0m\u001b[1;34m'books.csv'\u001b[0m\u001b[1;33m)\u001b[0m\u001b[1;33m\u001b[0m\u001b[1;33m\u001b[0m\u001b[0m\n\u001b[0m\u001b[0;32m      2\u001b[0m \u001b[0musers\u001b[0m \u001b[1;33m=\u001b[0m \u001b[0mpd\u001b[0m\u001b[1;33m.\u001b[0m\u001b[0mread_csv\u001b[0m\u001b[1;33m(\u001b[0m\u001b[1;34m'users.csv'\u001b[0m\u001b[1;33m)\u001b[0m\u001b[1;33m\u001b[0m\u001b[1;33m\u001b[0m\u001b[0m\n\u001b[0;32m      3\u001b[0m \u001b[0mratings\u001b[0m \u001b[1;33m=\u001b[0m \u001b[0mpd\u001b[0m\u001b[1;33m.\u001b[0m\u001b[0mread_csv\u001b[0m\u001b[1;33m(\u001b[0m\u001b[1;34m'ratings.csv'\u001b[0m\u001b[1;33m)\u001b[0m\u001b[1;33m\u001b[0m\u001b[1;33m\u001b[0m\u001b[0m\n",
      "\u001b[1;32m~\\anaconda3\\lib\\site-packages\\pandas\\io\\parsers.py\u001b[0m in \u001b[0;36mread_csv\u001b[1;34m(filepath_or_buffer, sep, delimiter, header, names, index_col, usecols, squeeze, prefix, mangle_dupe_cols, dtype, engine, converters, true_values, false_values, skipinitialspace, skiprows, skipfooter, nrows, na_values, keep_default_na, na_filter, verbose, skip_blank_lines, parse_dates, infer_datetime_format, keep_date_col, date_parser, dayfirst, cache_dates, iterator, chunksize, compression, thousands, decimal, lineterminator, quotechar, quoting, doublequote, escapechar, comment, encoding, dialect, error_bad_lines, warn_bad_lines, delim_whitespace, low_memory, memory_map, float_precision)\u001b[0m\n\u001b[0;32m    686\u001b[0m     )\n\u001b[0;32m    687\u001b[0m \u001b[1;33m\u001b[0m\u001b[0m\n\u001b[1;32m--> 688\u001b[1;33m     \u001b[1;32mreturn\u001b[0m \u001b[0m_read\u001b[0m\u001b[1;33m(\u001b[0m\u001b[0mfilepath_or_buffer\u001b[0m\u001b[1;33m,\u001b[0m \u001b[0mkwds\u001b[0m\u001b[1;33m)\u001b[0m\u001b[1;33m\u001b[0m\u001b[1;33m\u001b[0m\u001b[0m\n\u001b[0m\u001b[0;32m    689\u001b[0m \u001b[1;33m\u001b[0m\u001b[0m\n\u001b[0;32m    690\u001b[0m \u001b[1;33m\u001b[0m\u001b[0m\n",
      "\u001b[1;32m~\\anaconda3\\lib\\site-packages\\pandas\\io\\parsers.py\u001b[0m in \u001b[0;36m_read\u001b[1;34m(filepath_or_buffer, kwds)\u001b[0m\n\u001b[0;32m    452\u001b[0m \u001b[1;33m\u001b[0m\u001b[0m\n\u001b[0;32m    453\u001b[0m     \u001b[1;31m# Create the parser.\u001b[0m\u001b[1;33m\u001b[0m\u001b[1;33m\u001b[0m\u001b[0m\n\u001b[1;32m--> 454\u001b[1;33m     \u001b[0mparser\u001b[0m \u001b[1;33m=\u001b[0m \u001b[0mTextFileReader\u001b[0m\u001b[1;33m(\u001b[0m\u001b[0mfp_or_buf\u001b[0m\u001b[1;33m,\u001b[0m \u001b[1;33m**\u001b[0m\u001b[0mkwds\u001b[0m\u001b[1;33m)\u001b[0m\u001b[1;33m\u001b[0m\u001b[1;33m\u001b[0m\u001b[0m\n\u001b[0m\u001b[0;32m    455\u001b[0m \u001b[1;33m\u001b[0m\u001b[0m\n\u001b[0;32m    456\u001b[0m     \u001b[1;32mif\u001b[0m \u001b[0mchunksize\u001b[0m \u001b[1;32mor\u001b[0m \u001b[0miterator\u001b[0m\u001b[1;33m:\u001b[0m\u001b[1;33m\u001b[0m\u001b[1;33m\u001b[0m\u001b[0m\n",
      "\u001b[1;32m~\\anaconda3\\lib\\site-packages\\pandas\\io\\parsers.py\u001b[0m in \u001b[0;36m__init__\u001b[1;34m(self, f, engine, **kwds)\u001b[0m\n\u001b[0;32m    946\u001b[0m             \u001b[0mself\u001b[0m\u001b[1;33m.\u001b[0m\u001b[0moptions\u001b[0m\u001b[1;33m[\u001b[0m\u001b[1;34m\"has_index_names\"\u001b[0m\u001b[1;33m]\u001b[0m \u001b[1;33m=\u001b[0m \u001b[0mkwds\u001b[0m\u001b[1;33m[\u001b[0m\u001b[1;34m\"has_index_names\"\u001b[0m\u001b[1;33m]\u001b[0m\u001b[1;33m\u001b[0m\u001b[1;33m\u001b[0m\u001b[0m\n\u001b[0;32m    947\u001b[0m \u001b[1;33m\u001b[0m\u001b[0m\n\u001b[1;32m--> 948\u001b[1;33m         \u001b[0mself\u001b[0m\u001b[1;33m.\u001b[0m\u001b[0m_make_engine\u001b[0m\u001b[1;33m(\u001b[0m\u001b[0mself\u001b[0m\u001b[1;33m.\u001b[0m\u001b[0mengine\u001b[0m\u001b[1;33m)\u001b[0m\u001b[1;33m\u001b[0m\u001b[1;33m\u001b[0m\u001b[0m\n\u001b[0m\u001b[0;32m    949\u001b[0m \u001b[1;33m\u001b[0m\u001b[0m\n\u001b[0;32m    950\u001b[0m     \u001b[1;32mdef\u001b[0m \u001b[0mclose\u001b[0m\u001b[1;33m(\u001b[0m\u001b[0mself\u001b[0m\u001b[1;33m)\u001b[0m\u001b[1;33m:\u001b[0m\u001b[1;33m\u001b[0m\u001b[1;33m\u001b[0m\u001b[0m\n",
      "\u001b[1;32m~\\anaconda3\\lib\\site-packages\\pandas\\io\\parsers.py\u001b[0m in \u001b[0;36m_make_engine\u001b[1;34m(self, engine)\u001b[0m\n\u001b[0;32m   1178\u001b[0m     \u001b[1;32mdef\u001b[0m \u001b[0m_make_engine\u001b[0m\u001b[1;33m(\u001b[0m\u001b[0mself\u001b[0m\u001b[1;33m,\u001b[0m \u001b[0mengine\u001b[0m\u001b[1;33m=\u001b[0m\u001b[1;34m\"c\"\u001b[0m\u001b[1;33m)\u001b[0m\u001b[1;33m:\u001b[0m\u001b[1;33m\u001b[0m\u001b[1;33m\u001b[0m\u001b[0m\n\u001b[0;32m   1179\u001b[0m         \u001b[1;32mif\u001b[0m \u001b[0mengine\u001b[0m \u001b[1;33m==\u001b[0m \u001b[1;34m\"c\"\u001b[0m\u001b[1;33m:\u001b[0m\u001b[1;33m\u001b[0m\u001b[1;33m\u001b[0m\u001b[0m\n\u001b[1;32m-> 1180\u001b[1;33m             \u001b[0mself\u001b[0m\u001b[1;33m.\u001b[0m\u001b[0m_engine\u001b[0m \u001b[1;33m=\u001b[0m \u001b[0mCParserWrapper\u001b[0m\u001b[1;33m(\u001b[0m\u001b[0mself\u001b[0m\u001b[1;33m.\u001b[0m\u001b[0mf\u001b[0m\u001b[1;33m,\u001b[0m \u001b[1;33m**\u001b[0m\u001b[0mself\u001b[0m\u001b[1;33m.\u001b[0m\u001b[0moptions\u001b[0m\u001b[1;33m)\u001b[0m\u001b[1;33m\u001b[0m\u001b[1;33m\u001b[0m\u001b[0m\n\u001b[0m\u001b[0;32m   1181\u001b[0m         \u001b[1;32melse\u001b[0m\u001b[1;33m:\u001b[0m\u001b[1;33m\u001b[0m\u001b[1;33m\u001b[0m\u001b[0m\n\u001b[0;32m   1182\u001b[0m             \u001b[1;32mif\u001b[0m \u001b[0mengine\u001b[0m \u001b[1;33m==\u001b[0m \u001b[1;34m\"python\"\u001b[0m\u001b[1;33m:\u001b[0m\u001b[1;33m\u001b[0m\u001b[1;33m\u001b[0m\u001b[0m\n",
      "\u001b[1;32m~\\anaconda3\\lib\\site-packages\\pandas\\io\\parsers.py\u001b[0m in \u001b[0;36m__init__\u001b[1;34m(self, src, **kwds)\u001b[0m\n\u001b[0;32m   2008\u001b[0m         \u001b[0mkwds\u001b[0m\u001b[1;33m[\u001b[0m\u001b[1;34m\"usecols\"\u001b[0m\u001b[1;33m]\u001b[0m \u001b[1;33m=\u001b[0m \u001b[0mself\u001b[0m\u001b[1;33m.\u001b[0m\u001b[0musecols\u001b[0m\u001b[1;33m\u001b[0m\u001b[1;33m\u001b[0m\u001b[0m\n\u001b[0;32m   2009\u001b[0m \u001b[1;33m\u001b[0m\u001b[0m\n\u001b[1;32m-> 2010\u001b[1;33m         \u001b[0mself\u001b[0m\u001b[1;33m.\u001b[0m\u001b[0m_reader\u001b[0m \u001b[1;33m=\u001b[0m \u001b[0mparsers\u001b[0m\u001b[1;33m.\u001b[0m\u001b[0mTextReader\u001b[0m\u001b[1;33m(\u001b[0m\u001b[0msrc\u001b[0m\u001b[1;33m,\u001b[0m \u001b[1;33m**\u001b[0m\u001b[0mkwds\u001b[0m\u001b[1;33m)\u001b[0m\u001b[1;33m\u001b[0m\u001b[1;33m\u001b[0m\u001b[0m\n\u001b[0m\u001b[0;32m   2011\u001b[0m         \u001b[0mself\u001b[0m\u001b[1;33m.\u001b[0m\u001b[0munnamed_cols\u001b[0m \u001b[1;33m=\u001b[0m \u001b[0mself\u001b[0m\u001b[1;33m.\u001b[0m\u001b[0m_reader\u001b[0m\u001b[1;33m.\u001b[0m\u001b[0munnamed_cols\u001b[0m\u001b[1;33m\u001b[0m\u001b[1;33m\u001b[0m\u001b[0m\n\u001b[0;32m   2012\u001b[0m \u001b[1;33m\u001b[0m\u001b[0m\n",
      "\u001b[1;32mpandas\\_libs\\parsers.pyx\u001b[0m in \u001b[0;36mpandas._libs.parsers.TextReader.__cinit__\u001b[1;34m()\u001b[0m\n",
      "\u001b[1;32mpandas\\_libs\\parsers.pyx\u001b[0m in \u001b[0;36mpandas._libs.parsers.TextReader._setup_parser_source\u001b[1;34m()\u001b[0m\n",
      "\u001b[1;31mFileNotFoundError\u001b[0m: [Errno 2] No such file or directory: 'books.csv'"
     ]
    }
   ],
   "source": [
    "books = pd.read_csv('books.csv')\n",
    "users = pd.read_csv('users.csv')\n",
    "ratings = pd.read_csv('ratings.csv')"
   ]
  },
  {
   "cell_type": "code",
   "execution_count": null,
   "id": "98641467",
   "metadata": {},
   "outputs": [],
   "source": [
    "print(books.shape)\n",
    "print(users.shape)\n",
    "print(ratings.shape)"
   ]
  },
  {
   "cell_type": "code",
   "execution_count": null,
   "id": "fc962f2a",
   "metadata": {},
   "outputs": [],
   "source": [
    "ratings"
   ]
  },
  {
   "cell_type": "code",
   "execution_count": null,
   "id": "8413ff64",
   "metadata": {},
   "outputs": [],
   "source": [
    "books.isnull().sum()"
   ]
  },
  {
   "cell_type": "code",
   "execution_count": null,
   "id": "85c93313",
   "metadata": {},
   "outputs": [],
   "source": [
    "users.isnull().sum()"
   ]
  },
  {
   "cell_type": "code",
   "execution_count": null,
   "id": "b05e30ca",
   "metadata": {},
   "outputs": [],
   "source": [
    "ratings.isnull().sum()"
   ]
  },
  {
   "cell_type": "code",
   "execution_count": null,
   "id": "db4504f9",
   "metadata": {},
   "outputs": [],
   "source": []
  },
  {
   "cell_type": "code",
   "execution_count": null,
   "id": "77063091",
   "metadata": {},
   "outputs": [],
   "source": [
    "books.duplicated().sum()"
   ]
  },
  {
   "cell_type": "code",
   "execution_count": null,
   "id": "21aad2d8",
   "metadata": {},
   "outputs": [],
   "source": [
    "users.duplicated().sum()"
   ]
  },
  {
   "cell_type": "code",
   "execution_count": null,
   "id": "24fb76ea",
   "metadata": {},
   "outputs": [],
   "source": [
    "ratings.duplicated().sum()"
   ]
  },
  {
   "cell_type": "code",
   "execution_count": null,
   "id": "76667195",
   "metadata": {},
   "outputs": [],
   "source": [
    "#first build an eda rather than suddenly starting with model building"
   ]
  },
  {
   "cell_type": "markdown",
   "id": "c9b0a876",
   "metadata": {},
   "source": [
    "# POPULARITY BASED RECOMMENDER SYSTEM"
   ]
  },
  {
   "cell_type": "code",
   "execution_count": null,
   "id": "7ef99adc",
   "metadata": {},
   "outputs": [],
   "source": [
    "#WE'LL SHOW THE BOOKS WHICH HAVE HIGHEST RATING AS IN jiski average rating zyada hai    "
   ]
  },
  {
   "cell_type": "code",
   "execution_count": null,
   "id": "ecda4a09",
   "metadata": {},
   "outputs": [],
   "source": [
    "books"
   ]
  },
  {
   "cell_type": "code",
   "execution_count": null,
   "id": "5f2e792b",
   "metadata": {},
   "outputs": [],
   "source": [
    "# books.merge(books, on=\"ISBN\")"
   ]
  },
  {
   "cell_type": "code",
   "execution_count": null,
   "id": "7abee085",
   "metadata": {},
   "outputs": [],
   "source": [
    "# books.merge(books, on=\"ISBN\").shape #ratings has some books where books wala df is not there\n",
    "# thats why when it merged the rows got reduced"
   ]
  },
  {
   "cell_type": "code",
   "execution_count": null,
   "id": "f3fba1a2",
   "metadata": {},
   "outputs": [],
   "source": [
    "ratings_with_name = ratings.merge(books, on=\"ISBN\")           #also used in another section"
   ]
  },
  {
   "cell_type": "code",
   "execution_count": null,
   "id": "475bd4d4",
   "metadata": {},
   "outputs": [],
   "source": [
    "# ex:- harry potter\n",
    "# ratings_with_name.groupby('Book-Title_x')"
   ]
  },
  {
   "cell_type": "code",
   "execution_count": null,
   "id": "a525b1bd",
   "metadata": {},
   "outputs": [],
   "source": [
    "ratings_with_name.groupby('Book-Title').count()['Book-Rating']"
   ]
  },
  {
   "cell_type": "code",
   "execution_count": null,
   "id": "567d08e4",
   "metadata": {
    "scrolled": true
   },
   "outputs": [],
   "source": [
    "ratings_with_name.groupby('Book-Title').count()['Book-Rating'].reset_index()"
   ]
  },
  {
   "cell_type": "code",
   "execution_count": null,
   "id": "6ba7f839",
   "metadata": {},
   "outputs": [],
   "source": [
    "num_rating_df = ratings_with_name.groupby('Book-Title').count()['Book-Rating'].reset_index()\n",
    "num_rating_df.rename(columns={'Book-Rating':'num_ratings'},inplace=True)   #replces book-author with year\n",
    "num_rating_df"
   ]
  },
  {
   "cell_type": "code",
   "execution_count": null,
   "id": "0b510a84",
   "metadata": {},
   "outputs": [],
   "source": [
    "# creating a df which would have book_name and then the average (addition of all ratings/total no of ratings)\n",
    "# num_rating_df = ratings_with_name.groupby('Book-Title_x').count()['Book-Author_x'].reset_index()\n",
    "# num_rating_df.rename(columns={'Book-Author_x':'Year-Of-Publication_x'},inplace=True)   #replces book-author with year\n",
    "# num_rating_df"
   ]
  },
  {
   "cell_type": "code",
   "execution_count": null,
   "id": "c2a1f7b7",
   "metadata": {},
   "outputs": [],
   "source": [
    "avg_rating_df = ratings_with_name.groupby('Book-Title').mean()['Book-Rating'].reset_index()\n",
    "avg_rating_df.rename(columns={'Book-Rating':'avg_ratings'},inplace=True)   #replces book-author with year\n",
    "avg_rating_df"
   ]
  },
  {
   "cell_type": "code",
   "execution_count": null,
   "id": "0276395b",
   "metadata": {},
   "outputs": [],
   "source": [
    "popular_df = num_rating_df.merge(avg_rating_df, on='Book-Title')\n",
    "popular_df"
   ]
  },
  {
   "cell_type": "code",
   "execution_count": null,
   "id": "ed6bc9b1",
   "metadata": {},
   "outputs": [],
   "source": [
    "popular_df[popular_df['num_ratings']>=250]"
   ]
  },
  {
   "cell_type": "code",
   "execution_count": null,
   "id": "184a6570",
   "metadata": {},
   "outputs": [],
   "source": [
    "popular_df = popular_df[popular_df['num_ratings']>=250].sort_values('avg_ratings',ascending=False).head(50)\n"
   ]
  },
  {
   "cell_type": "code",
   "execution_count": null,
   "id": "0a6cd985",
   "metadata": {},
   "outputs": [],
   "source": [
    "popular_df"
   ]
  },
  {
   "cell_type": "code",
   "execution_count": null,
   "id": "82d736a3",
   "metadata": {},
   "outputs": [],
   "source": [
    "popular_df = popular_df.merge(books, on='Book-Title')"
   ]
  },
  {
   "cell_type": "code",
   "execution_count": null,
   "id": "44f4b5c1",
   "metadata": {},
   "outputs": [],
   "source": [
    "popular_df = popular_df.merge(books, on='Book-Title').drop_duplicates('Book-Title')\n",
    "# popular_df = popular_df.merge(books, on='Book-Title').drop_duplicates('Book-Title').shape"
   ]
  },
  {
   "cell_type": "code",
   "execution_count": null,
   "id": "3d20bac5",
   "metadata": {},
   "outputs": [],
   "source": [
    "popular_df = popular_df.merge(books,on='Book-Title').drop_duplicates('Book-Title')[['Book-Title','Book-Author', 'Image-URL-M','num_ratings', 'avg_ratings']]"
   ]
  },
  {
   "cell_type": "code",
   "execution_count": null,
   "id": "3ada456e",
   "metadata": {
    "scrolled": true
   },
   "outputs": [],
   "source": [
    "popular_df"
   ]
  },
  {
   "cell_type": "code",
   "execution_count": null,
   "id": "f4869a6f",
   "metadata": {},
   "outputs": [],
   "source": [
    "popular_df['Image-URL-M'][0]"
   ]
  },
  {
   "cell_type": "code",
   "execution_count": null,
   "id": "a03b90d0",
   "metadata": {},
   "outputs": [],
   "source": [
    "# Collaborative system in making\n",
    "# user has rated what for a book "
   ]
  },
  {
   "cell_type": "markdown",
   "id": "51b55c67",
   "metadata": {},
   "source": [
    "## Collaborative based Filtering System "
   ]
  },
  {
   "cell_type": "code",
   "execution_count": null,
   "id": "e72aeb9f",
   "metadata": {},
   "outputs": [],
   "source": [
    "# ratings_with_name is used initialised in the above section \n",
    "# ratings_with_name.groupby('User-ID').count()\n",
    "ratings_with_name.groupby('User-ID').count()['Book-Rating']>200\n",
    "# The false below means user hasn't rated more than 200 books\n"
   ]
  },
  {
   "cell_type": "code",
   "execution_count": null,
   "id": "a8d35d6c",
   "metadata": {},
   "outputs": [],
   "source": [
    "x = ratings_with_name.groupby('User-ID').count()['Book-Rating']>200\n",
    "# x[x]     #the ones who have rated more than 200 books\n",
    "# padhe_likhe_users = x[x]\n",
    "padhe_likhe_users = x[x].index     #lists all the rows and columns(forms a table)"
   ]
  },
  {
   "cell_type": "code",
   "execution_count": null,
   "id": "d3581e7e",
   "metadata": {},
   "outputs": [],
   "source": [
    "ratings_with_name[ratings_with_name['User-ID'].isin(padhe_likhe_users)]"
   ]
  },
  {
   "cell_type": "code",
   "execution_count": null,
   "id": "7a16afb4",
   "metadata": {},
   "outputs": [],
   "source": [
    "filtered_rating = ratings_with_name[ratings_with_name['User-ID'].isin(padhe_likhe_users)]"
   ]
  },
  {
   "cell_type": "code",
   "execution_count": null,
   "id": "5355734b",
   "metadata": {},
   "outputs": [],
   "source": [
    "y = filtered_rating.groupby('Book-Title').count()['Book-Rating']>=50"
   ]
  },
  {
   "cell_type": "code",
   "execution_count": null,
   "id": "11f88539",
   "metadata": {},
   "outputs": [],
   "source": [
    "y[y]  \n",
    "famous_books = y[y].index"
   ]
  },
  {
   "cell_type": "code",
   "execution_count": null,
   "id": "1ae977c3",
   "metadata": {
    "scrolled": true
   },
   "outputs": [],
   "source": [
    "# filtered_rating['Book-Title'].isin(famous_books)        #gives true/false values\n",
    "filtered_rating[filtered_rating['Book-Title'].isin(famous_books)]   #58000 rows left now"
   ]
  },
  {
   "cell_type": "code",
   "execution_count": null,
   "id": "bc669b68",
   "metadata": {},
   "outputs": [],
   "source": [
    "final_ratings = filtered_rating[filtered_rating['Book-Title'].isin(famous_books)]"
   ]
  },
  {
   "cell_type": "code",
   "execution_count": null,
   "id": "a425246c",
   "metadata": {},
   "outputs": [],
   "source": [
    "final_ratings"
   ]
  },
  {
   "cell_type": "code",
   "execution_count": null,
   "id": "a9831c65",
   "metadata": {},
   "outputs": [],
   "source": [
    "pt = final_ratings.pivot_table(index='Book-Title', columns='User-ID', values='Book-Rating')"
   ]
  },
  {
   "cell_type": "code",
   "execution_count": null,
   "id": "e168b470",
   "metadata": {},
   "outputs": [],
   "source": [
    "pt"
   ]
  },
  {
   "cell_type": "code",
   "execution_count": null,
   "id": "eacdb54a",
   "metadata": {},
   "outputs": [],
   "source": [
    "pt.fillna(0, inplace=True)   #place all the Nan with 0 "
   ]
  },
  {
   "cell_type": "code",
   "execution_count": null,
   "id": "dceaa1ab",
   "metadata": {},
   "outputs": [],
   "source": [
    "pt"
   ]
  },
  {
   "cell_type": "code",
   "execution_count": null,
   "id": "890996f9",
   "metadata": {},
   "outputs": [],
   "source": [
    "# we'll import cosine similarity \n",
    "# to compare the distances to know what books are similar \n",
    "from sklearn.metrics.pairwise import cosine_similarity"
   ]
  },
  {
   "cell_type": "code",
   "execution_count": null,
   "id": "26aecf18",
   "metadata": {},
   "outputs": [],
   "source": [
    "cosine_similarity(pt)"
   ]
  },
  {
   "cell_type": "code",
   "execution_count": null,
   "id": "9b7ac1af",
   "metadata": {},
   "outputs": [],
   "source": [
    "similarity_scores = cosine_similarity(pt)"
   ]
  },
  {
   "cell_type": "code",
   "execution_count": null,
   "id": "ef5671f1",
   "metadata": {},
   "outputs": [],
   "source": [
    "similarity_scores.shape"
   ]
  },
  {
   "cell_type": "code",
   "execution_count": null,
   "id": "ee62e14c",
   "metadata": {},
   "outputs": [],
   "source": [
    "# def recommend(book_name):\n",
    "#     #index fetch\n",
    "#     index = np.where(pt.index==book_name)[0][0]\n",
    "#     similar_items = sorted(list(enumerate(similarity_scores[index])), key=lambda x:x[1], reverse=True)[1:6]\n",
    "    \n",
    "    \n",
    "#     for i in similar_items:\n",
    "# #         print(pt.index[i[0]])\n",
    "#         print(pt.index[i[0]])    \n",
    "\n",
    "# this code only returns book-name so we gonna change that in the next cell where it will provide the book-author and the image also "
   ]
  },
  {
   "cell_type": "code",
   "execution_count": null,
   "id": "07597498",
   "metadata": {},
   "outputs": [],
   "source": [
    "def recommend(book_name):\n",
    "    #index fetch\n",
    "    index = np.where(pt.index==book_name)[0][0]\n",
    "    similar_items = sorted(list(enumerate(similarity_scores[index])), key=lambda x:x[1], reverse=True)[1:6]\n",
    "    \n",
    "    data = []\n",
    "    for i in similar_items:\n",
    "        item = []\n",
    "        temp_df = books[books['Book-Title'] == pt.index[i[0]]]\n",
    "        item.extend(temp_df.drop_duplicates('Book-Title')['Book-Title'].values)\n",
    "        item.extend(temp_df.drop_duplicates('Book-Title')['Book-Author'])\n",
    "        item.extend(temp_df.drop_duplicates('Book-Title')['Image-URL-M'])\n",
    "\n",
    "        data.append(item)\n",
    "    return data \n",
    "#         if we append the list it would become a 2d list and we don't want that\n",
    "# hence we use extend\n",
    "        \n"
   ]
  },
  {
   "cell_type": "code",
   "execution_count": null,
   "id": "dc1f3912",
   "metadata": {
    "scrolled": false
   },
   "outputs": [],
   "source": [
    "recommend('Midnight')   #will find you similar books with the input put in"
   ]
  },
  {
   "cell_type": "code",
   "execution_count": null,
   "id": "518c56f7",
   "metadata": {},
   "outputs": [],
   "source": [
    "import pickle\n",
    "pickle.dump(popular_df, open('popular_pkl', 'wb'))"
   ]
  },
  {
   "cell_type": "code",
   "execution_count": null,
   "id": "88cbb231",
   "metadata": {},
   "outputs": [],
   "source": [
    "# we need to export these three (title, author, image )\n",
    "\n",
    "pickle.dump(pt, open('pt.pkl', 'wb'))\n",
    "pickle.dump(books, open('books.pkl', 'wb'))\n",
    "pickle.dump(similarity_scores, open('similarity_scores.pkl', 'wb'))"
   ]
  },
  {
   "cell_type": "code",
   "execution_count": null,
   "id": "20529588",
   "metadata": {},
   "outputs": [],
   "source": [
    "pt.index[47]    #gets you the name"
   ]
  },
  {
   "cell_type": "code",
   "execution_count": null,
   "id": "94604a9c",
   "metadata": {},
   "outputs": [],
   "source": []
  },
  {
   "cell_type": "code",
   "execution_count": null,
   "id": "7594fdb3",
   "metadata": {},
   "outputs": [],
   "source": [
    "np.where(pt.index=='Midnight')[0][0]"
   ]
  },
  {
   "cell_type": "code",
   "execution_count": null,
   "id": "81d4b0b1",
   "metadata": {},
   "outputs": [],
   "source": [
    "similarity_scores[0]   #this is similarity that 1984 has with every other element"
   ]
  },
  {
   "cell_type": "code",
   "execution_count": null,
   "id": "80a129b1",
   "metadata": {},
   "outputs": [],
   "source": [
    "# so basically we want those who are the most similar \n",
    "# so we'll enumerate and we will be able to see the distance plus the items index\n",
    "list(enumerate(similarity_scores[0]))    #shows index and the similarity score\n"
   ]
  },
  {
   "cell_type": "code",
   "execution_count": null,
   "id": "7b4e9d44",
   "metadata": {},
   "outputs": [],
   "source": [
    "# so first we'll do the sorting \n",
    "sorted(list(enumerate(similarity_scores[0])))\n",
    "# but this is sorted on index basis but we want it to be sorted on the basis of similarity index "
   ]
  },
  {
   "cell_type": "code",
   "execution_count": null,
   "id": "6f0df4e7",
   "metadata": {},
   "outputs": [],
   "source": [
    "# sorted(list(enumerate(similarity_scores[0])), x:x[1], reverse=True)\n",
    "\n",
    "sorted(list(enumerate(similarity_scores[0])), key=lambda x:x[1], reverse=True)[1:6]\n",
    "\n",
    "# these are the similar items "
   ]
  },
  {
   "cell_type": "code",
   "execution_count": null,
   "id": "afa67e86",
   "metadata": {},
   "outputs": [],
   "source": []
  },
  {
   "cell_type": "code",
   "execution_count": null,
   "id": "3e198bdd",
   "metadata": {},
   "outputs": [],
   "source": []
  }
 ],
 "metadata": {
  "kernelspec": {
   "display_name": "Python 3 (ipykernel)",
   "language": "python",
   "name": "python3"
  },
  "language_info": {
   "codemirror_mode": {
    "name": "ipython",
    "version": 3
   },
   "file_extension": ".py",
   "mimetype": "text/x-python",
   "name": "python",
   "nbconvert_exporter": "python",
   "pygments_lexer": "ipython3",
   "version": "3.9.7"
  }
 },
 "nbformat": 4,
 "nbformat_minor": 5
}
